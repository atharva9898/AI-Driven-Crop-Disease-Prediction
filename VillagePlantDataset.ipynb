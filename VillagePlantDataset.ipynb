{
  "cells": [
    {
      "cell_type": "code",
      "execution_count": null,
      "metadata": {
        "id": "WdJs7gyYKG_B"
      },
      "outputs": [],
      "source": []
    },
    {
      "cell_type": "code",
      "execution_count": 2,
      "metadata": {
        "id": "aQZesM94KNXg"
      },
      "outputs": [],
      "source": [
        "import numpy as np\n",
        "import cv2\n",
        "import pandas as pd\n",
        "from imutils import paths\n",
        "import os\n",
        "from PIL import Image\n",
        "from sklearn.preprocessing import LabelBinarizer"
      ]
    },
    {
      "cell_type": "code",
      "execution_count": 3,
      "metadata": {},
      "outputs": [],
      "source": [
        "import matplotlib.pyplot as plt"
      ]
    },
    {
      "cell_type": "code",
      "execution_count": 4,
      "metadata": {
        "id": "bFdYSNkyL-PV"
      },
      "outputs": [],
      "source": [
        "from sklearn.model_selection import train_test_split"
      ]
    },
    {
      "cell_type": "code",
      "execution_count": 3,
      "metadata": {
        "colab": {
          "base_uri": "https://localhost:8080/"
        },
        "id": "_X2SRoyQNPm1",
        "outputId": "dce08233-70d9-44f8-dd52-e6f207dd09de"
      },
      "outputs": [
        {
          "name": "stdout",
          "output_type": "stream",
          "text": [
            "Drive already mounted at /content/drive; to attempt to forcibly remount, call drive.mount(\"/content/drive\", force_remount=True).\n"
          ]
        }
      ],
      "source": [
        "# from google.colab import drive\n",
        "# drive.mount('/content/drive')"
      ]
    },
    {
      "cell_type": "code",
      "execution_count": 4,
      "metadata": {
        "id": "Bbk8axPaNPe0"
      },
      "outputs": [],
      "source": [
        "# import zipfile\n",
        "# import os"
      ]
    },
    {
      "cell_type": "code",
      "execution_count": 5,
      "metadata": {
        "id": "knE9r3H-NPcF"
      },
      "outputs": [],
      "source": [
        "# zip_file_path='/content/drive/MyDrive/archive.zip'"
      ]
    },
    {
      "cell_type": "code",
      "execution_count": 6,
      "metadata": {
        "id": "OZKiaGPlNncq"
      },
      "outputs": [],
      "source": [
        "# extracted='/content/drive/MyDrive/extracted'"
      ]
    },
    {
      "cell_type": "code",
      "execution_count": 7,
      "metadata": {
        "id": "MkKXEBazNpYY"
      },
      "outputs": [],
      "source": [
        "# with zipfile.ZipFile(zip_file_path,'r') as zip_ref:\n",
        "#   zip_ref.extractall(extracted)"
      ]
    },
    {
      "cell_type": "code",
      "execution_count": 5,
      "metadata": {
        "id": "rM3WDR1sMGq2"
      },
      "outputs": [],
      "source": [
        "tom_dir=r'C:\\Users\\Atharva\\Desktop\\SIH\\archive\\PlantVillage\\Tomato'"
      ]
    },
    {
      "cell_type": "code",
      "execution_count": 6,
      "metadata": {
        "id": "5vEFMJ3eMPd1"
      },
      "outputs": [],
      "source": [
        "def createdataframe(dir):\n",
        "    image_paths = []\n",
        "    labels = []\n",
        "    for label in os.listdir(dir):\n",
        "        for imagename in os.listdir(os.path.join(dir,label)):\n",
        "            image_paths.append(os.path.join(dir,label,imagename))\n",
        "            labels.append(label)\n",
        "    return image_paths,labels"
      ]
    },
    {
      "cell_type": "code",
      "execution_count": 7,
      "metadata": {
        "id": "kOm6kOOvMSNJ"
      },
      "outputs": [],
      "source": [
        "df = pd.DataFrame()\n",
        "df['image'], df['label'] = createdataframe(tom_dir)"
      ]
    },
    {
      "cell_type": "code",
      "execution_count": 8,
      "metadata": {
        "colab": {
          "base_uri": "https://localhost:8080/",
          "height": 206
        },
        "id": "QanNYjnRasAf",
        "outputId": "24cf2d89-eed9-4df0-d7a0-9047a662d4d4"
      },
      "outputs": [
        {
          "data": {
            "text/html": [
              "<div>\n",
              "<style scoped>\n",
              "    .dataframe tbody tr th:only-of-type {\n",
              "        vertical-align: middle;\n",
              "    }\n",
              "\n",
              "    .dataframe tbody tr th {\n",
              "        vertical-align: top;\n",
              "    }\n",
              "\n",
              "    .dataframe thead th {\n",
              "        text-align: right;\n",
              "    }\n",
              "</style>\n",
              "<table border=\"1\" class=\"dataframe\">\n",
              "  <thead>\n",
              "    <tr style=\"text-align: right;\">\n",
              "      <th></th>\n",
              "      <th>image</th>\n",
              "      <th>label</th>\n",
              "    </tr>\n",
              "  </thead>\n",
              "  <tbody>\n",
              "    <tr>\n",
              "      <th>0</th>\n",
              "      <td>C:\\Users\\Atharva\\Desktop\\SIH\\archive\\PlantVill...</td>\n",
              "      <td>Tomato_Bacterial_spot</td>\n",
              "    </tr>\n",
              "    <tr>\n",
              "      <th>1</th>\n",
              "      <td>C:\\Users\\Atharva\\Desktop\\SIH\\archive\\PlantVill...</td>\n",
              "      <td>Tomato_Bacterial_spot</td>\n",
              "    </tr>\n",
              "    <tr>\n",
              "      <th>2</th>\n",
              "      <td>C:\\Users\\Atharva\\Desktop\\SIH\\archive\\PlantVill...</td>\n",
              "      <td>Tomato_Bacterial_spot</td>\n",
              "    </tr>\n",
              "    <tr>\n",
              "      <th>3</th>\n",
              "      <td>C:\\Users\\Atharva\\Desktop\\SIH\\archive\\PlantVill...</td>\n",
              "      <td>Tomato_Bacterial_spot</td>\n",
              "    </tr>\n",
              "    <tr>\n",
              "      <th>4</th>\n",
              "      <td>C:\\Users\\Atharva\\Desktop\\SIH\\archive\\PlantVill...</td>\n",
              "      <td>Tomato_Bacterial_spot</td>\n",
              "    </tr>\n",
              "  </tbody>\n",
              "</table>\n",
              "</div>"
            ],
            "text/plain": [
              "                                               image                  label\n",
              "0  C:\\Users\\Atharva\\Desktop\\SIH\\archive\\PlantVill...  Tomato_Bacterial_spot\n",
              "1  C:\\Users\\Atharva\\Desktop\\SIH\\archive\\PlantVill...  Tomato_Bacterial_spot\n",
              "2  C:\\Users\\Atharva\\Desktop\\SIH\\archive\\PlantVill...  Tomato_Bacterial_spot\n",
              "3  C:\\Users\\Atharva\\Desktop\\SIH\\archive\\PlantVill...  Tomato_Bacterial_spot\n",
              "4  C:\\Users\\Atharva\\Desktop\\SIH\\archive\\PlantVill...  Tomato_Bacterial_spot"
            ]
          },
          "execution_count": 8,
          "metadata": {},
          "output_type": "execute_result"
        }
      ],
      "source": [
        "df.head()"
      ]
    },
    {
      "cell_type": "code",
      "execution_count": 9,
      "metadata": {
        "colab": {
          "base_uri": "https://localhost:8080/"
        },
        "id": "gKuJ5_u_OJQw",
        "outputId": "016ba29d-f4c7-4610-8f5b-5f9799f08387"
      },
      "outputs": [
        {
          "data": {
            "text/plain": [
              "(16012, 2)"
            ]
          },
          "execution_count": 9,
          "metadata": {},
          "output_type": "execute_result"
        }
      ],
      "source": [
        "df.shape"
      ]
    },
    {
      "cell_type": "code",
      "execution_count": 10,
      "metadata": {
        "colab": {
          "base_uri": "https://localhost:8080/"
        },
        "id": "DRCEOpGSOJOM",
        "outputId": "5b1b0b1b-61f7-46e8-e2f0-afe99e71beb2"
      },
      "outputs": [
        {
          "data": {
            "text/plain": [
              "Index(['image', 'label'], dtype='object')"
            ]
          },
          "execution_count": 10,
          "metadata": {},
          "output_type": "execute_result"
        }
      ],
      "source": [
        "df.columns"
      ]
    },
    {
      "cell_type": "code",
      "execution_count": 11,
      "metadata": {
        "colab": {
          "base_uri": "https://localhost:8080/",
          "height": 147
        },
        "id": "zY_Ooh_cOm8_",
        "outputId": "a34db47e-aabb-4fc6-fc07-0a9727decd6f"
      },
      "outputs": [
        {
          "data": {
            "text/plain": [
              "image    16012\n",
              "label       10\n",
              "dtype: int64"
            ]
          },
          "execution_count": 11,
          "metadata": {},
          "output_type": "execute_result"
        }
      ],
      "source": [
        "df.nunique()"
      ]
    },
    {
      "cell_type": "code",
      "execution_count": 12,
      "metadata": {
        "colab": {
          "base_uri": "https://localhost:8080/",
          "height": 429
        },
        "id": "bzpeLVLqawOl",
        "outputId": "19bf4351-bf56-4f8b-dbcb-0f3afd82ca14"
      },
      "outputs": [
        {
          "data": {
            "text/plain": [
              "label\n",
              "Tomato__Tomato_YellowLeaf__Curl_Virus          3209\n",
              "Tomato_Bacterial_spot                          2127\n",
              "Tomato_Late_blight                             1909\n",
              "Tomato_Septoria_leaf_spot                      1771\n",
              "Tomato_Spider_mites_Two_spotted_spider_mite    1676\n",
              "Tomato_healthy                                 1591\n",
              "Tomato__Target_Spot                            1404\n",
              "Tomato_Early_blight                            1000\n",
              "Tomato_Leaf_Mold                                952\n",
              "Tomato__Tomato_mosaic_virus                     373\n",
              "Name: count, dtype: int64"
            ]
          },
          "execution_count": 12,
          "metadata": {},
          "output_type": "execute_result"
        }
      ],
      "source": [
        "df['label'].value_counts()"
      ]
    },
    {
      "cell_type": "code",
      "execution_count": 13,
      "metadata": {
        "colab": {
          "base_uri": "https://localhost:8080/",
          "height": 147
        },
        "id": "4UYUDX3bOPsC",
        "outputId": "ab4196fe-3c42-4eef-da64-999e38f6bb2d"
      },
      "outputs": [
        {
          "data": {
            "text/plain": [
              "image    0\n",
              "label    0\n",
              "dtype: int64"
            ]
          },
          "execution_count": 13,
          "metadata": {},
          "output_type": "execute_result"
        }
      ],
      "source": [
        "df.isnull().sum()"
      ]
    },
    {
      "cell_type": "markdown",
      "metadata": {
        "id": "auz4JUEiw31-"
      },
      "source": [
        "# PreProcessing"
      ]
    },
    {
      "cell_type": "code",
      "execution_count": 14,
      "metadata": {
        "colab": {
          "base_uri": "https://localhost:8080/"
        },
        "id": "IOIZ9hE7OJLU",
        "outputId": "9b112fc8-14b5-4bb0-f5a2-6a5a462d66a2"
      },
      "outputs": [
        {
          "name": "stdout",
          "output_type": "stream",
          "text": [
            "All image paths are correct and accessible.\n"
          ]
        }
      ],
      "source": [
        "def check_image_paths(df, column_name='image'):\n",
        "    # Check if the path exists for each row in the 'image' column\n",
        "    df['path_exists'] = df[column_name].apply(lambda x: os.path.exists(x))\n",
        "\n",
        "    # Get rows where the path doesn't exist\n",
        "    missing_images = df[~df['path_exists']]\n",
        "\n",
        "    if not missing_images.empty:\n",
        "        print(\"Some image paths are incorrect or the images are missing.\")\n",
        "        print(missing_images[[column_name]])\n",
        "    else:\n",
        "        print(\"All image paths are correct and accessible.\")\n",
        "\n",
        "# Example usage\n",
        "check_image_paths(df, column_name='image')"
      ]
    },
    {
      "cell_type": "code",
      "execution_count": 15,
      "metadata": {
        "id": "p5SJRkelOwn9"
      },
      "outputs": [],
      "source": [
        "def preprocess_image(image_path, img_size):\n",
        "    # Load the image from the file, resize it to the target size, and normalize pixel values\n",
        "    image_list=[]\n",
        "    for i, images in enumerate(image_path):\n",
        "        image = cv2.imread(images)\n",
        "        if image is None:\n",
        "            print(f\"Image at index {i} with path '{image_path}' could not be loaded.\")\n",
        "            continue\n",
        "\n",
        "        image = cv2.resize(image, img_size)\n",
        "        image = image.astype('float32') / 255.0\n",
        "        image_list.append(image)\n",
        "    image_list=np.array(image_list)\n",
        "    print(image_list.shape)\n",
        "    return image_list"
      ]
    },
    {
      "cell_type": "code",
      "execution_count": 16,
      "metadata": {
        "colab": {
          "base_uri": "https://localhost:8080/"
        },
        "id": "dRMYmwVuOzBS",
        "outputId": "3aacfb1e-eea9-4782-96f4-5a759c4152d6"
      },
      "outputs": [
        {
          "name": "stdout",
          "output_type": "stream",
          "text": [
            "Image at index 16011 with path '0        C:\\Users\\Atharva\\Desktop\\SIH\\archive\\PlantVill...\n",
            "1        C:\\Users\\Atharva\\Desktop\\SIH\\archive\\PlantVill...\n",
            "2        C:\\Users\\Atharva\\Desktop\\SIH\\archive\\PlantVill...\n",
            "3        C:\\Users\\Atharva\\Desktop\\SIH\\archive\\PlantVill...\n",
            "4        C:\\Users\\Atharva\\Desktop\\SIH\\archive\\PlantVill...\n",
            "                               ...                        \n",
            "16007    C:\\Users\\Atharva\\Desktop\\SIH\\archive\\PlantVill...\n",
            "16008    C:\\Users\\Atharva\\Desktop\\SIH\\archive\\PlantVill...\n",
            "16009    C:\\Users\\Atharva\\Desktop\\SIH\\archive\\PlantVill...\n",
            "16010    C:\\Users\\Atharva\\Desktop\\SIH\\archive\\PlantVill...\n",
            "16011    C:\\Users\\Atharva\\Desktop\\SIH\\archive\\PlantVill...\n",
            "Name: image, Length: 16012, dtype: object' could not be loaded.\n",
            "(16011, 150, 150, 3)\n"
          ]
        }
      ],
      "source": [
        "img_size = (150, 150)\n",
        "X = preprocess_image(df['image'],img_size)"
      ]
    },
    {
      "cell_type": "code",
      "execution_count": 17,
      "metadata": {
        "id": "my1R-MyJO2d5"
      },
      "outputs": [],
      "source": [
        "label_binarizer = LabelBinarizer()\n",
        "y = label_binarizer.fit_transform(df['label'])"
      ]
    },
    {
      "cell_type": "code",
      "execution_count": 18,
      "metadata": {
        "colab": {
          "base_uri": "https://localhost:8080/"
        },
        "id": "Stwy3QzTO3xv",
        "outputId": "fec7b709-38ed-4076-dcc7-4328c0a08778"
      },
      "outputs": [
        {
          "data": {
            "text/plain": [
              "(16012, 10)"
            ]
          },
          "execution_count": 18,
          "metadata": {},
          "output_type": "execute_result"
        }
      ],
      "source": [
        "y.shape"
      ]
    },
    {
      "cell_type": "code",
      "execution_count": 19,
      "metadata": {
        "colab": {
          "base_uri": "https://localhost:8080/"
        },
        "id": "NilY2TYzg4_S",
        "outputId": "46f34c8c-369c-4be8-9819-9bb2b4d072c4"
      },
      "outputs": [
        {
          "name": "stdout",
          "output_type": "stream",
          "text": [
            "(16011, 10)\n"
          ]
        }
      ],
      "source": [
        "y = np.delete(y, 14047, axis=0)\n",
        "print(y.shape)"
      ]
    },
    {
      "cell_type": "code",
      "execution_count": 18,
      "metadata": {
        "id": "TpYosphfiQ1m"
      },
      "outputs": [],
      "source": [
        "X_train, X_temp, y_train, y_temp = train_test_split(X, y, test_size=0.3, random_state=42)"
      ]
    },
    {
      "cell_type": "markdown",
      "metadata": {
        "id": "kCKKzw2Wsz3g"
      },
      "source": [
        "# Self made CNN"
      ]
    },
    {
      "cell_type": "code",
      "execution_count": 19,
      "metadata": {
        "id": "tyYCyZJ4ioEz"
      },
      "outputs": [],
      "source": [
        "import tensorflow as tf\n",
        "from tensorflow.keras.models import Sequential\n",
        "from tensorflow.keras.layers import Conv2D, MaxPooling2D, Flatten, Dense, Dropout\n",
        "from tensorflow.keras.utils import to_categorical"
      ]
    },
    {
      "cell_type": "code",
      "execution_count": 20,
      "metadata": {
        "id": "OWObeBTQiXSV"
      },
      "outputs": [
        {
          "name": "stderr",
          "output_type": "stream",
          "text": [
            "c:\\Users\\Atharva\\anaconda3\\Lib\\site-packages\\keras\\src\\layers\\convolutional\\base_conv.py:107: UserWarning: Do not pass an `input_shape`/`input_dim` argument to a layer. When using Sequential models, prefer using an `Input(shape)` object as the first layer in the model instead.\n",
            "  super().__init__(activity_regularizer=activity_regularizer, **kwargs)\n"
          ]
        }
      ],
      "source": [
        "model = Sequential([\n",
        "    Conv2D(32, (3, 3), activation='relu', input_shape=(150, 150, 3)),\n",
        "    MaxPooling2D(2, 2),\n",
        "\n",
        "    Conv2D(64, (3, 3), activation='relu'),\n",
        "    MaxPooling2D(2, 2),\n",
        "\n",
        "    Conv2D(128, (3, 3), activation='relu'),\n",
        "    MaxPooling2D(2, 2),\n",
        "\n",
        "    Flatten(),\n",
        "    Dense(512, activation='relu'),\n",
        "    Dropout(0.5),\n",
        "    Dense(len(label_binarizer.classes_), activation='softmax')  # Number of classes\n",
        "])\n",
        "model.compile(optimizer='adam', loss='categorical_crossentropy', metrics=['accuracy'])"
      ]
    },
    {
      "cell_type": "code",
      "execution_count": 21,
      "metadata": {
        "id": "XY0jFjEjiXFZ"
      },
      "outputs": [
        {
          "name": "stdout",
          "output_type": "stream",
          "text": [
            "Epoch 1/25\n",
            "\u001b[1m351/351\u001b[0m \u001b[32m━━━━━━━━━━━━━━━━━━━━\u001b[0m\u001b[37m\u001b[0m \u001b[1m327s\u001b[0m 913ms/step - accuracy: 0.4547 - loss: 1.5708\n",
            "Epoch 2/25\n",
            "\u001b[1m351/351\u001b[0m \u001b[32m━━━━━━━━━━━━━━━━━━━━\u001b[0m\u001b[37m\u001b[0m \u001b[1m311s\u001b[0m 886ms/step - accuracy: 0.8208 - loss: 0.5384\n",
            "Epoch 3/25\n",
            "\u001b[1m351/351\u001b[0m \u001b[32m━━━━━━━━━━━━━━━━━━━━\u001b[0m\u001b[37m\u001b[0m \u001b[1m323s\u001b[0m 918ms/step - accuracy: 0.8650 - loss: 0.3928\n",
            "Epoch 4/25\n",
            "\u001b[1m351/351\u001b[0m \u001b[32m━━━━━━━━━━━━━━━━━━━━\u001b[0m\u001b[37m\u001b[0m \u001b[1m305s\u001b[0m 869ms/step - accuracy: 0.8964 - loss: 0.3124\n",
            "Epoch 5/25\n",
            "\u001b[1m351/351\u001b[0m \u001b[32m━━━━━━━━━━━━━━━━━━━━\u001b[0m\u001b[37m\u001b[0m \u001b[1m300s\u001b[0m 854ms/step - accuracy: 0.9260 - loss: 0.2236\n",
            "Epoch 6/25\n",
            "\u001b[1m351/351\u001b[0m \u001b[32m━━━━━━━━━━━━━━━━━━━━\u001b[0m\u001b[37m\u001b[0m \u001b[1m306s\u001b[0m 870ms/step - accuracy: 0.9503 - loss: 0.1508\n",
            "Epoch 7/25\n",
            "\u001b[1m351/351\u001b[0m \u001b[32m━━━━━━━━━━━━━━━━━━━━\u001b[0m\u001b[37m\u001b[0m \u001b[1m310s\u001b[0m 881ms/step - accuracy: 0.9566 - loss: 0.1284\n",
            "Epoch 8/25\n",
            "\u001b[1m351/351\u001b[0m \u001b[32m━━━━━━━━━━━━━━━━━━━━\u001b[0m\u001b[37m\u001b[0m \u001b[1m316s\u001b[0m 899ms/step - accuracy: 0.9539 - loss: 0.1343\n",
            "Epoch 9/25\n",
            "\u001b[1m351/351\u001b[0m \u001b[32m━━━━━━━━━━━━━━━━━━━━\u001b[0m\u001b[37m\u001b[0m \u001b[1m313s\u001b[0m 893ms/step - accuracy: 0.9744 - loss: 0.0808\n",
            "Epoch 10/25\n",
            "\u001b[1m351/351\u001b[0m \u001b[32m━━━━━━━━━━━━━━━━━━━━\u001b[0m\u001b[37m\u001b[0m \u001b[1m303s\u001b[0m 862ms/step - accuracy: 0.9694 - loss: 0.0955\n",
            "Epoch 11/25\n",
            "\u001b[1m351/351\u001b[0m \u001b[32m━━━━━━━━━━━━━━━━━━━━\u001b[0m\u001b[37m\u001b[0m \u001b[1m298s\u001b[0m 848ms/step - accuracy: 0.9823 - loss: 0.0577\n",
            "Epoch 12/25\n",
            "\u001b[1m351/351\u001b[0m \u001b[32m━━━━━━━━━━━━━━━━━━━━\u001b[0m\u001b[37m\u001b[0m \u001b[1m301s\u001b[0m 858ms/step - accuracy: 0.9767 - loss: 0.0654\n",
            "Epoch 13/25\n",
            "\u001b[1m351/351\u001b[0m \u001b[32m━━━━━━━━━━━━━━━━━━━━\u001b[0m\u001b[37m\u001b[0m \u001b[1m300s\u001b[0m 854ms/step - accuracy: 0.9787 - loss: 0.0656\n",
            "Epoch 14/25\n",
            "\u001b[1m351/351\u001b[0m \u001b[32m━━━━━━━━━━━━━━━━━━━━\u001b[0m\u001b[37m\u001b[0m \u001b[1m298s\u001b[0m 849ms/step - accuracy: 0.9713 - loss: 0.0847\n",
            "Epoch 15/25\n",
            "\u001b[1m351/351\u001b[0m \u001b[32m━━━━━━━━━━━━━━━━━━━━\u001b[0m\u001b[37m\u001b[0m \u001b[1m304s\u001b[0m 866ms/step - accuracy: 0.9797 - loss: 0.0615\n",
            "Epoch 16/25\n",
            "\u001b[1m351/351\u001b[0m \u001b[32m━━━━━━━━━━━━━━━━━━━━\u001b[0m\u001b[37m\u001b[0m \u001b[1m292s\u001b[0m 830ms/step - accuracy: 0.9805 - loss: 0.0497\n",
            "Epoch 17/25\n",
            "\u001b[1m351/351\u001b[0m \u001b[32m━━━━━━━━━━━━━━━━━━━━\u001b[0m\u001b[37m\u001b[0m \u001b[1m288s\u001b[0m 820ms/step - accuracy: 0.9874 - loss: 0.0390\n",
            "Epoch 18/25\n",
            "\u001b[1m351/351\u001b[0m \u001b[32m━━━━━━━━━━━━━━━━━━━━\u001b[0m\u001b[37m\u001b[0m \u001b[1m304s\u001b[0m 864ms/step - accuracy: 0.9917 - loss: 0.0270\n",
            "Epoch 19/25\n",
            "\u001b[1m351/351\u001b[0m \u001b[32m━━━━━━━━━━━━━━━━━━━━\u001b[0m\u001b[37m\u001b[0m \u001b[1m302s\u001b[0m 860ms/step - accuracy: 0.9836 - loss: 0.0522\n",
            "Epoch 20/25\n",
            "\u001b[1m351/351\u001b[0m \u001b[32m━━━━━━━━━━━━━━━━━━━━\u001b[0m\u001b[37m\u001b[0m \u001b[1m299s\u001b[0m 852ms/step - accuracy: 0.9817 - loss: 0.0548\n",
            "Epoch 21/25\n",
            "\u001b[1m351/351\u001b[0m \u001b[32m━━━━━━━━━━━━━━━━━━━━\u001b[0m\u001b[37m\u001b[0m \u001b[1m300s\u001b[0m 853ms/step - accuracy: 0.9864 - loss: 0.0386\n",
            "Epoch 22/25\n",
            "\u001b[1m351/351\u001b[0m \u001b[32m━━━━━━━━━━━━━━━━━━━━\u001b[0m\u001b[37m\u001b[0m \u001b[1m304s\u001b[0m 866ms/step - accuracy: 0.9892 - loss: 0.0350\n",
            "Epoch 23/25\n",
            "\u001b[1m351/351\u001b[0m \u001b[32m━━━━━━━━━━━━━━━━━━━━\u001b[0m\u001b[37m\u001b[0m \u001b[1m304s\u001b[0m 864ms/step - accuracy: 0.9831 - loss: 0.0493\n",
            "Epoch 24/25\n",
            "\u001b[1m351/351\u001b[0m \u001b[32m━━━━━━━━━━━━━━━━━━━━\u001b[0m\u001b[37m\u001b[0m \u001b[1m300s\u001b[0m 854ms/step - accuracy: 0.9911 - loss: 0.0293\n",
            "Epoch 25/25\n",
            "\u001b[1m351/351\u001b[0m \u001b[32m━━━━━━━━━━━━━━━━━━━━\u001b[0m\u001b[37m\u001b[0m \u001b[1m299s\u001b[0m 850ms/step - accuracy: 0.9863 - loss: 0.0408\n"
          ]
        }
      ],
      "source": [
        "history = model.fit(\n",
        "    X_train, y_train,\n",
        "    epochs=25,\n",
        "    batch_size=32\n",
        ")"
      ]
    },
    {
      "cell_type": "code",
      "execution_count": 22,
      "metadata": {
        "id": "9Bv0V-JxiXCM"
      },
      "outputs": [
        {
          "name": "stdout",
          "output_type": "stream",
          "text": [
            "\u001b[1m151/151\u001b[0m \u001b[32m━━━━━━━━━━━━━━━━━━━━\u001b[0m\u001b[37m\u001b[0m \u001b[1m24s\u001b[0m 156ms/step - accuracy: 0.9173 - loss: 0.3978\n",
            "Test Accuracy: 0.9236053228378296\n"
          ]
        }
      ],
      "source": [
        "test_loss, test_acc = model.evaluate(X_temp, y_temp)\n",
        "print(f\"Test Accuracy: {test_acc}\")"
      ]
    },
    {
      "cell_type": "code",
      "execution_count": 23,
      "metadata": {
        "id": "SKMk6zeMtEs_"
      },
      "outputs": [
        {
          "name": "stderr",
          "output_type": "stream",
          "text": [
            "WARNING:absl:You are saving your model as an HDF5 file via `model.save()` or `keras.saving.save_model(model)`. This file format is considered legacy. We recommend using instead the native Keras format, e.g. `model.save('my_model.keras')` or `keras.saving.save_model(model, 'my_model.keras')`. \n"
          ]
        }
      ],
      "source": [
        "model.save('plant_disease_model.h5')"
      ]
    },
    {
      "cell_type": "code",
      "execution_count": 59,
      "metadata": {},
      "outputs": [
        {
          "data": {
            "image/png": "[encoded data removed]",
            "text/plain": [
              "<Figure size 640x480 with 1 Axes>"
            ]
          },
          "metadata": {},
          "output_type": "display_data"
        }
      ],
      "source": [
        "plt.plot(history.history['accuracy'], label='Training Accuracy')\n",
        "plt.title('Accuracy vs Epochs')\n",
        "plt.xlabel('Epochs')\n",
        "plt.ylabel('Accuracy')\n",
        "plt.legend()\n",
        "plt.show()"
      ]
    },
    {
      "cell_type": "code",
      "execution_count": 34,
      "metadata": {},
      "outputs": [],
      "source": [
        "def preprocess_image_predict(image_path, img_size):\n",
        "    # Load the image from the file, resize it to the target size, and normalize pixel values\n",
        "    image_list=[]\n",
        "    \n",
        "    image = cv2.imread(image_path)\n",
        "        \n",
        "    image = cv2.resize(image, img_size)\n",
        "    image = image.astype('float32') / 255.0\n",
        "    image_list.append(image)\n",
        "    image_list=np.array(image_list)\n",
        "    print(image_list.shape)\n",
        "    return image_list"
      ]
    },
    {
      "cell_type": "code",
      "execution_count": 50,
      "metadata": {
        "id": "WPxxRQrfwZry"
      },
      "outputs": [],
      "source": [
        "img_path= r'C:\\Users\\Atharva\\Desktop\\SIH\\archive\\PlantVillage\\Tomato\\Tomato_healthy\\fe8f8808-2631-491e-a46b-bd2a1a4958e7___GH_HL Leaf 213.1.JPG'"
      ]
    },
    {
      "cell_type": "code",
      "execution_count": 51,
      "metadata": {
        "id": "YU7FLMQHwZkW"
      },
      "outputs": [
        {
          "name": "stdout",
          "output_type": "stream",
          "text": [
            "(1, 150, 150, 3)\n"
          ]
        }
      ],
      "source": [
        "img_size=(150, 150)\n",
        "img_array=preprocess_image_predict(img_path,img_size)"
      ]
    },
    {
      "cell_type": "code",
      "execution_count": 52,
      "metadata": {},
      "outputs": [],
      "source": [
        "img_array=np.array(img_array)"
      ]
    },
    {
      "cell_type": "code",
      "execution_count": 53,
      "metadata": {},
      "outputs": [
        {
          "data": {
            "text/plain": [
              "(1, 150, 150, 3)"
            ]
          },
          "execution_count": 53,
          "metadata": {},
          "output_type": "execute_result"
        }
      ],
      "source": [
        "img_array.shape"
      ]
    },
    {
      "cell_type": "code",
      "execution_count": 54,
      "metadata": {
        "id": "Pxb7FB8mwY1_"
      },
      "outputs": [
        {
          "name": "stdout",
          "output_type": "stream",
          "text": [
            "\u001b[1m1/1\u001b[0m \u001b[32m━━━━━━━━━━━━━━━━━━━━\u001b[0m\u001b[37m\u001b[0m \u001b[1m0s\u001b[0m 91ms/step\n"
          ]
        }
      ],
      "source": [
        "predictions=model.predict(img_array)"
      ]
    },
    {
      "cell_type": "code",
      "execution_count": 55,
      "metadata": {
        "id": "SyGgs7eywcQK"
      },
      "outputs": [],
      "source": [
        "predicted_class=np.argmax(predictions, axis=1)"
      ]
    },
    {
      "cell_type": "code",
      "execution_count": 56,
      "metadata": {
        "id": "f12hKZ7Rwi4b"
      },
      "outputs": [
        {
          "data": {
            "text/plain": [
              "'Tomato_healthy'"
            ]
          },
          "execution_count": 56,
          "metadata": {},
          "output_type": "execute_result"
        }
      ],
      "source": [
        "class_labels=list(label_binarizer.classes_)  # Assuming you used a label_binarizer\n",
        "predicted_label=class_labels[predicted_class[0]]\n",
        "predicted_label"
      ]
    },
    {
      "cell_type": "code",
      "execution_count": null,
      "metadata": {},
      "outputs": [],
      "source": [
        "image = cv2.imread(img_path)"
      ]
    },
    {
      "cell_type": "code",
      "execution_count": null,
      "metadata": {},
      "outputs": [],
      "source": [
        "plt.imshow(image)\n",
        "plt.title(f\"Disease Name\":{predicted_label})\n"
      ]
    },
    {
      "cell_type": "markdown",
      "metadata": {
        "id": "dmsaD-YAtooh"
      },
      "source": [
        "# pre trained VGG16"
      ]
    },
    {
      "cell_type": "code",
      "execution_count": 60,
      "metadata": {
        "id": "7CFO6hWctpPN"
      },
      "outputs": [],
      "source": [
        "from tensorflow.keras.applications import VGG16, ResNet50, InceptionV3\n",
        "from tensorflow.keras.models import Model\n",
        "from tensorflow.keras.layers import Dense, Flatten, Dropout"
      ]
    },
    {
      "cell_type": "code",
      "execution_count": 61,
      "metadata": {
        "id": "YaiCou6EtuFd"
      },
      "outputs": [
        {
          "name": "stdout",
          "output_type": "stream",
          "text": [
            "Downloading data from https://storage.googleapis.com/tensorflow/keras-applications/vgg16/vgg16_weights_tf_dim_ordering_tf_kernels_notop.h5\n",
            "\u001b[1m58889256/58889256\u001b[0m \u001b[32m━━━━━━━━━━━━━━━━━━━━\u001b[0m\u001b[37m\u001b[0m \u001b[1m6s\u001b[0m 0us/step\n"
          ]
        }
      ],
      "source": [
        "base_model = VGG16(weights='imagenet', include_top=False, input_shape=(150, 150, 3))"
      ]
    },
    {
      "cell_type": "code",
      "execution_count": 62,
      "metadata": {
        "id": "VPiaDvWjtyPk"
      },
      "outputs": [],
      "source": [
        "for layer in base_model.layers:\n",
        "    layer.trainable = False"
      ]
    },
    {
      "cell_type": "code",
      "execution_count": 64,
      "metadata": {
        "id": "OCkEeswVt2vt"
      },
      "outputs": [],
      "source": [
        "x = base_model.output\n",
        "x = Flatten()(x)\n",
        "x = Dense(512, activation='relu')(x)\n",
        "x = Dropout(0.5)(x)\n",
        "predictions = Dense(len(label_binarizer.classes_), activation='softmax')(x)"
      ]
    },
    {
      "cell_type": "code",
      "execution_count": 65,
      "metadata": {
        "id": "0i2lJ9DNt8rl"
      },
      "outputs": [],
      "source": [
        "model1 = Model(inputs=base_model.input, outputs=predictions)"
      ]
    },
    {
      "cell_type": "code",
      "execution_count": 66,
      "metadata": {
        "id": "xp2F1OJdt_EV"
      },
      "outputs": [],
      "source": [
        "model1.compile(optimizer='adam', loss='categorical_crossentropy', metrics=['accuracy'])"
      ]
    },
    {
      "cell_type": "code",
      "execution_count": 68,
      "metadata": {
        "id": "hs4nCixBuNs5"
      },
      "outputs": [
        {
          "name": "stdout",
          "output_type": "stream",
          "text": [
            "Epoch 1/10\n",
            "\u001b[1m176/176\u001b[0m \u001b[32m━━━━━━━━━━━━━━━━━━━━\u001b[0m\u001b[37m\u001b[0m \u001b[1m814s\u001b[0m 5s/step - accuracy: 0.6478 - loss: 1.0859\n",
            "Epoch 2/10\n",
            "\u001b[1m176/176\u001b[0m \u001b[32m━━━━━━━━━━━━━━━━━━━━\u001b[0m\u001b[37m\u001b[0m \u001b[1m788s\u001b[0m 4s/step - accuracy: 0.8041 - loss: 0.5927\n",
            "Epoch 3/10\n",
            "\u001b[1m176/176\u001b[0m \u001b[32m━━━━━━━━━━━━━━━━━━━━\u001b[0m\u001b[37m\u001b[0m \u001b[1m794s\u001b[0m 5s/step - accuracy: 0.8364 - loss: 0.4772\n",
            "Epoch 4/10\n",
            "\u001b[1m176/176\u001b[0m \u001b[32m━━━━━━━━━━━━━━━━━━━━\u001b[0m\u001b[37m\u001b[0m \u001b[1m779s\u001b[0m 4s/step - accuracy: 0.8548 - loss: 0.4148\n",
            "Epoch 5/10\n",
            "\u001b[1m176/176\u001b[0m \u001b[32m━━━━━━━━━━━━━━━━━━━━\u001b[0m\u001b[37m\u001b[0m \u001b[1m791s\u001b[0m 4s/step - accuracy: 0.8735 - loss: 0.3673\n",
            "Epoch 6/10\n",
            "\u001b[1m176/176\u001b[0m \u001b[32m━━━━━━━━━━━━━━━━━━━━\u001b[0m\u001b[37m\u001b[0m \u001b[1m672s\u001b[0m 4s/step - accuracy: 0.8961 - loss: 0.2993\n",
            "Epoch 7/10\n",
            "\u001b[1m176/176\u001b[0m \u001b[32m━━━━━━━━━━━━━━━━━━━━\u001b[0m\u001b[37m\u001b[0m \u001b[1m344s\u001b[0m 2s/step - accuracy: 0.9010 - loss: 0.2896\n",
            "Epoch 8/10\n",
            "\u001b[1m176/176\u001b[0m \u001b[32m━━━━━━━━━━━━━━━━━━━━\u001b[0m\u001b[37m\u001b[0m \u001b[1m343s\u001b[0m 2s/step - accuracy: 0.8952 - loss: 0.2919\n",
            "Epoch 9/10\n",
            "\u001b[1m176/176\u001b[0m \u001b[32m━━━━━━━━━━━━━━━━━━━━\u001b[0m\u001b[37m\u001b[0m \u001b[1m338s\u001b[0m 2s/step - accuracy: 0.9128 - loss: 0.2455\n",
            "Epoch 10/10\n",
            "\u001b[1m176/176\u001b[0m \u001b[32m━━━━━━━━━━━━━━━━━━━━\u001b[0m\u001b[37m\u001b[0m \u001b[1m335s\u001b[0m 2s/step - accuracy: 0.9220 - loss: 0.2292\n"
          ]
        }
      ],
      "source": [
        "history1 = model1.fit(\n",
        "    X_train, y_train,\n",
        "    epochs=10,\n",
        "    batch_size=64\n",
        ")"
      ]
    },
    {
      "cell_type": "code",
      "execution_count": 70,
      "metadata": {
        "id": "6NXMhphkuNhy"
      },
      "outputs": [
        {
          "name": "stdout",
          "output_type": "stream",
          "text": [
            "\u001b[1m151/151\u001b[0m \u001b[32m━━━━━━━━━━━━━━━━━━━━\u001b[0m\u001b[37m\u001b[0m \u001b[1m146s\u001b[0m 946ms/step - accuracy: 0.8893 - loss: 0.3194\n",
            "Test Accuracy: 0.8955037593841553\n"
          ]
        }
      ],
      "source": [
        "test_loss, test_acc = model1.evaluate(X_temp, y_temp)\n",
        "print(f\"Test Accuracy: {test_acc}\")\n",
        "\n"
      ]
    },
    {
      "cell_type": "code",
      "execution_count": 71,
      "metadata": {},
      "outputs": [
        {
          "name": "stderr",
          "output_type": "stream",
          "text": [
            "WARNING:absl:You are saving your model as an HDF5 file via `model.save()` or `keras.saving.save_model(model)`. This file format is considered legacy. We recommend using instead the native Keras format, e.g. `model.save('my_model.keras')` or `keras.saving.save_model(model, 'my_model.keras')`. \n"
          ]
        }
      ],
      "source": [
        "model1.save('plant_disease_model_preTrained.h5')"
      ]
    }
  ],
  "metadata": {
    "colab": {
      "provenance": []
    },
    "kernelspec": {
      "display_name": "Python 3",
      "name": "python3"
    },
    "language_info": {
      "codemirror_mode": {
        "name": "ipython",
        "version": 3
      },
      "file_extension": ".py",
      "mimetype": "text/x-python",
      "name": "python",
      "nbconvert_exporter": "python",
      "pygments_lexer": "ipython3",
      "version": "3.11.5"
    }
  },
  "nbformat": 4,
  "nbformat_minor": 0
}
